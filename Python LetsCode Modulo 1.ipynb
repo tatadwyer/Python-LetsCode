{
 "cells": [
  {
   "cell_type": "markdown",
   "id": "a547d7c9",
   "metadata": {},
   "source": [
    "# Módulo 1"
   ]
  },
  {
   "cell_type": "code",
   "execution_count": 1,
   "id": "411d3d6b",
   "metadata": {},
   "outputs": [
    {
     "name": "stdout",
     "output_type": "stream",
     "text": [
      "Digite um valor monetário: R$ 5678\n",
      "O valor monetário, menos 15% é: R$  4826.3\n"
     ]
    }
   ],
   "source": [
    "'''Python Módulo 1 - Exercício 1 \n",
    "Faça um programa que peça um valor monetário e diminua-o em 15%. \n",
    "Seu programa deve imprimir a mensagem “O novo valor é [valor]”.\n",
    "'''\n",
    "\n",
    "\n",
    "valor_inicial = input ('Digite um valor monetário: R$ ')\n",
    "valor_inicial = float (valor_inicial)\n",
    "\n",
    "valor_de_quinze_porcento = valor_inicial * 0.15\n",
    "valor_de_quinze_porcento = float (valor_de_quinze_porcento)\n",
    "\n",
    "valor_final = valor_inicial - valor_de_quinze_porcento\n",
    "valor_final = float (valor_final)\n",
    "\n",
    "print ('O valor monetário, menos 15% é: R$ ', valor_final)"
   ]
  },
  {
   "cell_type": "code",
   "execution_count": 4,
   "id": "559e6387",
   "metadata": {},
   "outputs": [
    {
     "name": "stdout",
     "output_type": "stream",
     "text": [
      "Digite a sua idade: 38\n",
      "Idade válida. \n",
      "Sua idade é:  38\n",
      "Digite seu salário mensal: 678\n",
      "Salário válido! \n",
      "Seu salário mensal é: R$ 678.0\n",
      "Seu salário anual é: R$ 8136.0\n",
      "Digite seu sexo (M, F, ou Outro): M\n",
      "Sexo:  M\n"
     ]
    }
   ],
   "source": [
    "'''Python Módulo 1 - Exercício 2 \n",
    "    Faça um programa que leia e valide as seguintes infos:\n",
    "    a. Idade: entre 0 e 150;\n",
    "    b. Salário: maior que 0;\n",
    "    c. Sexo: M, F ou Outro'''\n",
    "\n",
    "idade = int (input ('Digite a sua idade: '))\n",
    "\n",
    "if idade>=0 and idade<=150:\n",
    "    print ('Idade válida. \\nSua idade é: ', idade)\n",
    "    \n",
    "else: \n",
    "    print ('Idade inválida!')\n",
    "        \n",
    "\n",
    "salario = float (input ('Digite seu salário mensal: '))\n",
    "\n",
    "if salario>0:\n",
    "    print ('Salário válido! \\nSeu salário mensal é: R$', salario)\n",
    "    \n",
    "    salario_anual=salario*12\n",
    "    print ('Seu salário anual é: R$', salario_anual)\n",
    "    \n",
    "else: \n",
    "    print ('Salário inválido!')\n",
    "\n",
    "sexo = str (input ('Digite seu sexo (M, F, ou Outro): '))\n",
    "\n",
    "if sexo in ('M', 'F', 'Outro'):\n",
    "#if sexo=='M' or sexo=='F' or sexo=='Outro':\n",
    "    print ('Sexo: ', sexo)\n",
    "    \n",
    "else:\n",
    "    print ('Sexo inválido!')\n"
   ]
  },
  {
   "cell_type": "code",
   "execution_count": 40,
   "id": "37607d55",
   "metadata": {},
   "outputs": [
    {
     "name": "stdout",
     "output_type": "stream",
     "text": [
      "*************Questionário Policial*************\n",
      "Responda S (Sim) ou N (Não) para cada questão:\n",
      "a. Mora perto da vítima? s\n",
      "b. Já trabalhou com a vítima? s\n",
      "c. Telefonou para a vítima? n\n",
      "d. Esteve no local do crime? n\n",
      "e. Devia para a vítima? n\n",
      "Você é um suspeito!\n"
     ]
    }
   ],
   "source": [
    "'''Python Módulo 1 - Exercício 3 \n",
    "\n",
    "Vamos fazer um programa para verificar quem é o assassino de um crime.\n",
    "Para descobrir o assassino, a polícia faz um pequeno questionário com 5\n",
    "perguntas onde a resposta só pode ser sim ou não:\n",
    "\n",
    "a. Mora perto da vítima?\n",
    "b. Já trabalhou com a vítima?\n",
    "c. Telefonou para a vítima?\n",
    "d. Esteve no local do crime?\n",
    "e. Devia para a vítima?\n",
    "\n",
    "Cada resposta sim dá um ponto para o suspeito. A polícia considera que os\n",
    "suspeitos com 5 pontos são os assassinos, com 4 a 3 pontos são cúmplices e\n",
    "2 pontos são apenas suspeitos, necessitando outras investigações. Valores\n",
    "iguais ou abaixo de 1 são liberados.'''\n",
    "\n",
    "print ('*************Questionário Policial*************')\n",
    "print ('Responda S (Sim) ou N (Não) para cada questão:')\n",
    "    \n",
    "resposta = ''\n",
    "contagem = 0\n",
    "\n",
    "resposta = input ('a. Mora perto da vítima? ').upper()\n",
    "if resposta == 'S':\n",
    "    contagem = contagem+1\n",
    "resposta = input ('b. Já trabalhou com a vítima? ').upper()\n",
    "if resposta == 'S':\n",
    "    contagem = contagem+1\n",
    "resposta = input ('c. Telefonou para a vítima? ').upper()\n",
    "if resposta == 'S':\n",
    "    contagem = contagem+1\n",
    "resposta = input ('d. Esteve no local do crime? ').upper()\n",
    "if resposta == 'S':\n",
    "    contagem = contagem+1\n",
    "resposta = input ('e. Devia para a vítima? ').upper()\n",
    "if resposta == 'S':\n",
    "    contagem = contagem+1\n",
    "\n",
    "if contagem==5:\n",
    "    print ('Você é o assassino!!!')\n",
    "    \n",
    "elif contagem==4 or contagem==3:\n",
    "    print ('Você é cumplice do assassino!')\n",
    "        \n",
    "elif contagem==2:\n",
    "    print('Você é um suspeito!')\n",
    "                \n",
    "else:\n",
    "    print ('Você está liberado!')"
   ]
  },
  {
   "cell_type": "code",
   "execution_count": 8,
   "id": "49139bce",
   "metadata": {},
   "outputs": [
    {
     "name": "stdout",
     "output_type": "stream",
     "text": [
      "9 x 1 = 9\n",
      "9 x 2 = 18\n",
      "9 x 3 = 27\n",
      "9 x 4 = 36\n",
      "9 x 5 = 45\n",
      "9 x 6 = 54\n",
      "9 x 7 = 63\n",
      "9 x 8 = 72\n",
      "9 x 9 = 81\n",
      "9 x 10 = 90\n"
     ]
    }
   ],
   "source": [
    "'''Python Módulo 1 - Exercício 4 \n",
    "Faça um programa que imprima a tabuada do 9 (de 9*1 a 9*10) usando loops.'''\n",
    "\n",
    "contador = 1\n",
    "fixo = 9\n",
    "\n",
    "while contador<=10:\n",
    "    result=fixo*contador\n",
    "    print('9 x',contador,'=',result)\n",
    "    contador=contador+1\n",
    "    \n",
    "    "
   ]
  }
 ],
 "metadata": {
  "kernelspec": {
   "display_name": "Python 3 (ipykernel)",
   "language": "python",
   "name": "python3"
  },
  "language_info": {
   "codemirror_mode": {
    "name": "ipython",
    "version": 3
   },
   "file_extension": ".py",
   "mimetype": "text/x-python",
   "name": "python",
   "nbconvert_exporter": "python",
   "pygments_lexer": "ipython3",
   "version": "3.9.7"
  }
 },
 "nbformat": 4,
 "nbformat_minor": 5
}
