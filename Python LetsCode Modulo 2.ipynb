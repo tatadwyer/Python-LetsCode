{
 "cells": [
  {
   "cell_type": "code",
   "execution_count": 15,
   "id": "412973b9",
   "metadata": {},
   "outputs": [
    {
     "name": "stdout",
     "output_type": "stream",
     "text": [
      "Lista:  [1, 2, 3, 4, 5, 6, 7, 8, 9, 0]\n",
      "5\n",
      "A lista possui  5  elementos pares.\n"
     ]
    }
   ],
   "source": [
    "'''\n",
    "Python LetsCode \n",
    "\n",
    "Módulo 2 Exercício 1 \n",
    "\n",
    "Faça um programa que olhe todos os itens de uma lista e diga quantos deles\n",
    "são pares.\n",
    "'''\n",
    "\n",
    "lista = [1,2,3,4,5,6,7,8,9,0]\n",
    "print(\"Lista: \", lista)\n",
    "\n",
    "\n",
    "pares=0\n",
    "for i in lista:\n",
    "    if i%2==0:\n",
    "        pares=pares+1\n",
    "\n",
    "print(pares)\n",
    "\n",
    "\n",
    "i=0\n",
    "j=0\n",
    "while i<len(lista):\n",
    "    if (lista[i]%2==0):\n",
    "        j+=1\n",
    "    i+=1\n",
    "print(\"A lista possui \",j, \" elementos pares.\")\n"
   ]
  },
  {
   "cell_type": "code",
   "execution_count": 3,
   "id": "dd0ec090",
   "metadata": {},
   "outputs": [
    {
     "name": "stdout",
     "output_type": "stream",
     "text": [
      "Digite uma palavra: Inferno\n",
      "I\n",
      "n\n",
      "f\n",
      "e\n",
      "r\n",
      "n\n",
      "o\n"
     ]
    }
   ],
   "source": [
    "'''\n",
    "Python LetsCode \n",
    "\n",
    "Módulo 2 Exercício 2 \n",
    "\n",
    "Faça um programa que peça para o usuário digitar uma palavra e imprima\n",
    "cada letra em uma linha.\n",
    "'''\n",
    "\n",
    "palavra=input(\"Digite uma palavra: \")\n",
    "\n",
    "for i in palavra:\n",
    "    print (i)"
   ]
  },
  {
   "cell_type": "code",
   "execution_count": 14,
   "id": "28747485",
   "metadata": {},
   "outputs": [
    {
     "name": "stdout",
     "output_type": "stream",
     "text": [
      "[4, 9, 4]\n",
      "[4, 9, 4]\n"
     ]
    }
   ],
   "source": [
    "'''\n",
    "Python LetsCode \n",
    "\n",
    "Módulo 2 Exercício 3 \n",
    "\n",
    "Faça uma função que recebe duas listas e retorna a soma item a item dessas\n",
    "listas.\n",
    "Exemplo: Se a função receber as listas [1,4,3] e [3,5,1], então a função deve\n",
    "retornar [1+3, 4+5, 3+1] = [4, 9, 4].\n",
    "'''\n",
    "\n",
    "\n",
    "lista1 = [1,4,3]\n",
    "lista2 = [3,5,1]\n",
    "\n",
    "lista3 = [((lista1[0])+(lista2[0])), ((lista1[1])+(lista2[1])), ((lista1[2])+(lista2[2]))]\n",
    "\n",
    "print(lista3)\n",
    "\n",
    "\n",
    "lista1 = [1,4,3]\n",
    "lista2 = [3,5,1]\n",
    "lista3 = []\n",
    "soma=0\n",
    "\n",
    "i=0\n",
    "while i<3:\n",
    "    soma = lista1[i]+lista2[i]\n",
    "    lista3.append(soma)\n",
    "    i+=1\n",
    "    \n",
    "    \n",
    "print(lista3)\n"
   ]
  },
  {
   "cell_type": "code",
   "execution_count": 12,
   "id": "e1783306",
   "metadata": {},
   "outputs": [
    {
     "name": "stdout",
     "output_type": "stream",
     "text": [
      "{'janeiro': 31, 'fevereiro': 28, 'março': 31, 'abril': 30, 'maio': 31, 'junho': 30, 'julho': 31, 'agosto': 31, 'setembro': 30, 'outubro': 31, 'novembro': 30, 'dezembro': 31}\n",
      "janeiro - 31\n",
      "fevereiro - 28\n",
      "março - 31\n",
      "abril - 30\n",
      "maio - 31\n",
      "junho - 30\n",
      "julho - 31\n",
      "agosto - 31\n",
      "setembro - 30\n",
      "outubro - 31\n",
      "novembro - 30\n",
      "dezembro - 31\n"
     ]
    }
   ],
   "source": [
    "'''\n",
    "Python LetsCode \n",
    "\n",
    "Módulo 2 Exercício 4\n",
    "\n",
    "Crie um dicionário cujas chaves são os meses do ano e os valores são a\n",
    "duração (em dias) de cada mês.\n",
    "'''\n",
    "\n",
    "dicionario = {'janeiro':31, 'fevereiro':28, 'março':31, 'abril':30, 'maio':31, 'junho':30, 'julho':31, 'agosto':31,'setembro':30, 'outubro':31, 'novembro':30, 'dezembro':31}\n",
    "print(dicionario)\n",
    "\n",
    "'''\n",
    "Python LetsCode \n",
    "\n",
    "Módulo 2 Exercício 5\n",
    "\n",
    "Imprima as chaves seguidas dos seus valores para dicionário criado no\n",
    "exercício anterior.\n",
    "Exemplo:\n",
    "Janeiro - 31\n",
    "Fevereiro - 28\n",
    "Março - 31\n",
    "\n",
    "'''\n",
    "\n",
    "for i in dicionario:\n",
    "    print (i,'-', dicionario[i])\n",
    "    \n",
    "\n",
    "\n"
   ]
  },
  {
   "cell_type": "code",
   "execution_count": null,
   "id": "3b053969",
   "metadata": {},
   "outputs": [],
   "source": []
  }
 ],
 "metadata": {
  "kernelspec": {
   "display_name": "Python 3 (ipykernel)",
   "language": "python",
   "name": "python3"
  },
  "language_info": {
   "codemirror_mode": {
    "name": "ipython",
    "version": 3
   },
   "file_extension": ".py",
   "mimetype": "text/x-python",
   "name": "python",
   "nbconvert_exporter": "python",
   "pygments_lexer": "ipython3",
   "version": "3.9.7"
  }
 },
 "nbformat": 4,
 "nbformat_minor": 5
}
